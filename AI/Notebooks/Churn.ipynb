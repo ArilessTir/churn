{
  "cells": [
    {
      "cell_type": "code",
      "execution_count": 1,
      "metadata": {
        "id": "K4zZgTOhDOX0"
      },
      "outputs": [],
      "source": [
        "import pandas as pd\n",
        "import numpy as np\n",
        "import matplotlib.pyplot as plt\n",
        "import seaborn as sns"
      ]
    },
    {
      "cell_type": "markdown",
      "metadata": {
        "id": "EVDLSutXEpUA"
      },
      "source": [
        "### - Analyse de forme\n",
        "\n",
        "    Shape: 10000 rows : 13 columns\n",
        "\n",
        "    Data types: \n",
        "      int64: 8\n",
        "      object : 3\n",
        "      float64 : 2\n",
        "\n",
        "    Valeur Manquante:No NAN\n",
        "\n",
        "    Target : \"Exited\" \n",
        "      \n",
        "      79.6% = O\n",
        "      20.4% = 1\n",
        "\n",
        "### - Analyse de fond\n",
        "\n",
        "#### Target\n",
        "\n",
        "    unbalanced datasets ratio 80 - 20\n",
        "#### Integer\n",
        "\n",
        "    CustomerId     =>  A id\n",
        "    CreditScore :   \n",
        "      We can observe that credit card attribution follow the normal law with a small skew\n",
        "      We have almots the same distribution for our both population.\n",
        "      Some Outliers\n",
        "    Age            =>  \n",
        "      Distributions difference between both population\n",
        "      Exited = 1 mean age : 45\n",
        "      Exited = 0 mean age : 37 \n",
        "      Global Age distribution is skwed\n",
        "    Balance       =>\n",
        "      A lot of 0, both population have the same distribution\n",
        "      Except 0 we can observe a normal distribution\n",
        "    EstimatedSalary =>\n",
        "      Both population have agai the same distribution \n",
        "      Estimated Salary follow a uniform law\n",
        "    \n",
        "    Sex =>\n",
        "      Male and Female : balanced\n",
        "      OHE\n",
        "\n",
        "      No difference between both population\n",
        "\n",
        "    Tenure =>\n",
        "      bewteen 0 and 10\n",
        "    \n",
        "    Geography =>\n",
        "      We have 3 countries France, Germany and Spain\n",
        "      OHE\n",
        "    \n",
        "    Number of products =>\n",
        "      between 0 and 4 \n",
        "\n",
        "      50% of the clients subscribed to only one product\n",
        "      \n",
        "      69% of Exited = 1 had one product\n"
      ]
    },
    {
      "cell_type": "code",
      "execution_count": 35,
      "metadata": {
        "id": "EBlBWDy5DvhN"
      },
      "outputs": [],
      "source": [
        "data = pd.read_csv('../Data/Churn_Modelling.csv', index_col=\"RowNumber\")"
      ]
    },
    {
      "cell_type": "code",
      "execution_count": 3,
      "metadata": {
        "colab": {
          "base_uri": "https://localhost:8080/",
          "height": 207
        },
        "id": "Wu2aXWgREROu",
        "outputId": "154222d9-1c67-4d5c-fae6-3d5ef8c816fe"
      },
      "outputs": [
        {
          "data": {
            "text/html": [
              "<div>\n",
              "<style scoped>\n",
              "    .dataframe tbody tr th:only-of-type {\n",
              "        vertical-align: middle;\n",
              "    }\n",
              "\n",
              "    .dataframe tbody tr th {\n",
              "        vertical-align: top;\n",
              "    }\n",
              "\n",
              "    .dataframe thead th {\n",
              "        text-align: right;\n",
              "    }\n",
              "</style>\n",
              "<table border=\"1\" class=\"dataframe\">\n",
              "  <thead>\n",
              "    <tr style=\"text-align: right;\">\n",
              "      <th></th>\n",
              "      <th>CustomerId</th>\n",
              "      <th>Surname</th>\n",
              "      <th>CreditScore</th>\n",
              "      <th>Geography</th>\n",
              "      <th>Gender</th>\n",
              "      <th>Age</th>\n",
              "      <th>Tenure</th>\n",
              "      <th>Balance</th>\n",
              "      <th>NumOfProducts</th>\n",
              "      <th>HasCrCard</th>\n",
              "      <th>IsActiveMember</th>\n",
              "      <th>EstimatedSalary</th>\n",
              "      <th>Exited</th>\n",
              "    </tr>\n",
              "    <tr>\n",
              "      <th>RowNumber</th>\n",
              "      <th></th>\n",
              "      <th></th>\n",
              "      <th></th>\n",
              "      <th></th>\n",
              "      <th></th>\n",
              "      <th></th>\n",
              "      <th></th>\n",
              "      <th></th>\n",
              "      <th></th>\n",
              "      <th></th>\n",
              "      <th></th>\n",
              "      <th></th>\n",
              "      <th></th>\n",
              "    </tr>\n",
              "  </thead>\n",
              "  <tbody>\n",
              "    <tr>\n",
              "      <th>1</th>\n",
              "      <td>15634602</td>\n",
              "      <td>Hargrave</td>\n",
              "      <td>619</td>\n",
              "      <td>France</td>\n",
              "      <td>Female</td>\n",
              "      <td>42</td>\n",
              "      <td>2</td>\n",
              "      <td>0.00</td>\n",
              "      <td>1</td>\n",
              "      <td>1</td>\n",
              "      <td>1</td>\n",
              "      <td>101348.88</td>\n",
              "      <td>1</td>\n",
              "    </tr>\n",
              "    <tr>\n",
              "      <th>2</th>\n",
              "      <td>15647311</td>\n",
              "      <td>Hill</td>\n",
              "      <td>608</td>\n",
              "      <td>Spain</td>\n",
              "      <td>Female</td>\n",
              "      <td>41</td>\n",
              "      <td>1</td>\n",
              "      <td>83807.86</td>\n",
              "      <td>1</td>\n",
              "      <td>0</td>\n",
              "      <td>1</td>\n",
              "      <td>112542.58</td>\n",
              "      <td>0</td>\n",
              "    </tr>\n",
              "  </tbody>\n",
              "</table>\n",
              "</div>"
            ],
            "text/plain": [
              "           CustomerId   Surname  CreditScore Geography  Gender  Age  Tenure  \\\n",
              "RowNumber                                                                     \n",
              "1            15634602  Hargrave          619    France  Female   42       2   \n",
              "2            15647311      Hill          608     Spain  Female   41       1   \n",
              "\n",
              "            Balance  NumOfProducts  HasCrCard  IsActiveMember  \\\n",
              "RowNumber                                                       \n",
              "1              0.00              1          1               1   \n",
              "2          83807.86              1          0               1   \n",
              "\n",
              "           EstimatedSalary  Exited  \n",
              "RowNumber                           \n",
              "1                101348.88       1  \n",
              "2                112542.58       0  "
            ]
          },
          "execution_count": 3,
          "metadata": {},
          "output_type": "execute_result"
        }
      ],
      "source": [
        "data.head(2)"
      ]
    },
    {
      "cell_type": "code",
      "execution_count": 4,
      "metadata": {},
      "outputs": [
        {
          "name": "stdout",
          "output_type": "stream",
          "text": [
            "<class 'pandas.core.frame.DataFrame'>\n",
            "Int64Index: 10000 entries, 1 to 10000\n",
            "Data columns (total 13 columns):\n",
            " #   Column           Non-Null Count  Dtype  \n",
            "---  ------           --------------  -----  \n",
            " 0   CustomerId       10000 non-null  int64  \n",
            " 1   Surname          10000 non-null  object \n",
            " 2   CreditScore      10000 non-null  int64  \n",
            " 3   Geography        10000 non-null  object \n",
            " 4   Gender           10000 non-null  object \n",
            " 5   Age              10000 non-null  int64  \n",
            " 6   Tenure           10000 non-null  int64  \n",
            " 7   Balance          10000 non-null  float64\n",
            " 8   NumOfProducts    10000 non-null  int64  \n",
            " 9   HasCrCard        10000 non-null  int64  \n",
            " 10  IsActiveMember   10000 non-null  int64  \n",
            " 11  EstimatedSalary  10000 non-null  float64\n",
            " 12  Exited           10000 non-null  int64  \n",
            "dtypes: float64(2), int64(8), object(3)\n",
            "memory usage: 1.1+ MB\n"
          ]
        }
      ],
      "source": [
        "data.info()"
      ]
    },
    {
      "cell_type": "code",
      "execution_count": 5,
      "metadata": {
        "colab": {
          "base_uri": "https://localhost:8080/"
        },
        "id": "1Y2_ryXFEhh-",
        "outputId": "044f4c0c-6df7-497d-c8af-bdb1d47d337c"
      },
      "outputs": [
        {
          "data": {
            "text/plain": [
              "(10000, 13)"
            ]
          },
          "execution_count": 5,
          "metadata": {},
          "output_type": "execute_result"
        }
      ],
      "source": [
        "data.shape"
      ]
    },
    {
      "cell_type": "code",
      "execution_count": 6,
      "metadata": {
        "colab": {
          "base_uri": "https://localhost:8080/"
        },
        "id": "TH6WTL0aEmAV",
        "outputId": "d26f0f60-445f-47e9-c7a3-486257d7638a"
      },
      "outputs": [
        {
          "data": {
            "text/plain": [
              "int64      8\n",
              "object     3\n",
              "float64    2\n",
              "dtype: int64"
            ]
          },
          "execution_count": 6,
          "metadata": {},
          "output_type": "execute_result"
        }
      ],
      "source": [
        "data.dtypes.value_counts()"
      ]
    },
    {
      "cell_type": "code",
      "execution_count": null,
      "metadata": {
        "colab": {
          "base_uri": "https://localhost:8080/"
        },
        "id": "7U0pNK2cGSHY",
        "outputId": "5e2bba64-0423-4b9c-9b28-bd17b148b313"
      },
      "outputs": [],
      "source": [
        "data.isna().sum()"
      ]
    },
    {
      "cell_type": "markdown",
      "metadata": {
        "id": "scWQF_izGmMB"
      },
      "source": [
        "#### Target"
      ]
    },
    {
      "cell_type": "code",
      "execution_count": null,
      "metadata": {
        "colab": {
          "base_uri": "https://localhost:8080/"
        },
        "id": "nuk-oWZoGnV8",
        "outputId": "ea7ebc99-57ed-48c3-b42c-d0968175c203"
      },
      "outputs": [],
      "source": [
        "data['Exited'].value_counts()/data.shape[0]*100"
      ]
    },
    {
      "cell_type": "code",
      "execution_count": null,
      "metadata": {
        "colab": {
          "base_uri": "https://localhost:8080/",
          "height": 313
        },
        "id": "KvZvQCMvHCEg",
        "outputId": "3359cb57-c375-418d-ec33-b67f08d62a6d"
      },
      "outputs": [],
      "source": [
        "data['Exited'].value_counts().plot(kind='bar')\n",
        "plt.title('Exited repartiton')\n",
        "plt.ylabel('clients')\n",
        "plt.xlabel('exited status')\n",
        "plt.xticks(rotation=0)"
      ]
    },
    {
      "cell_type": "code",
      "execution_count": null,
      "metadata": {
        "id": "0DTWaoMrOrpN"
      },
      "outputs": [],
      "source": [
        "integer = data[['Age','CreditScore','Balance','EstimatedSalary']]\n",
        "objet = data[['Geography','Gender', 'Tenure','NumOfProducts','HasCrCard','IsActiveMember']]"
      ]
    },
    {
      "cell_type": "markdown",
      "metadata": {
        "id": "uhnF_MbxIv42"
      },
      "source": [
        "### Integer "
      ]
    },
    {
      "cell_type": "code",
      "execution_count": null,
      "metadata": {
        "colab": {
          "base_uri": "https://localhost:8080/",
          "height": 237
        },
        "id": "DhBy6lluI5Nw",
        "outputId": "ea8a88ec-f772-47c6-c759-dc8d9888b828"
      },
      "outputs": [],
      "source": [
        "integer.head()"
      ]
    },
    {
      "cell_type": "code",
      "execution_count": null,
      "metadata": {
        "colab": {
          "base_uri": "https://localhost:8080/",
          "height": 1000
        },
        "id": "YUcrbJE1I8lX",
        "outputId": "a51d22da-2ffd-4da8-f875-96cc588f7903"
      },
      "outputs": [],
      "source": [
        "for col in integer.columns:  \n",
        "  print(integer[col][data['Exited']==0].describe())\n",
        "  print(integer[col][data['Exited']==1].describe())\n",
        "  fig,axes= plt.subplots(1,2, figsize =(15,5))\n",
        "  sns.histplot(data=integer, x=col, hue=data['Exited'],ax= axes[0])\n",
        "  sns.boxplot(integer[col],ax= axes[1])\n",
        "  plt.title('Distribution of Credit Score')\n",
        "  plt.show()"
      ]
    },
    {
      "cell_type": "markdown",
      "metadata": {
        "id": "ELlfbazLTHgg"
      },
      "source": []
    },
    {
      "cell_type": "markdown",
      "metadata": {
        "id": "4qlw7yq9TJjD"
      },
      "source": [
        "### Objects"
      ]
    },
    {
      "cell_type": "code",
      "execution_count": null,
      "metadata": {
        "colab": {
          "base_uri": "https://localhost:8080/",
          "height": 237
        },
        "id": "YBpu_kJ7TM8z",
        "outputId": "d1f2409f-e6c3-4c78-ea18-e55ad26914f1"
      },
      "outputs": [],
      "source": [
        "objet.head()"
      ]
    },
    {
      "cell_type": "code",
      "execution_count": null,
      "metadata": {
        "colab": {
          "base_uri": "https://localhost:8080/",
          "height": 1000
        },
        "id": "YJlGy65_TboZ",
        "outputId": "36ed65ef-81fc-4d65-f48f-e786fe87785e"
      },
      "outputs": [],
      "source": [
        "for col in objet.columns:\n",
        "  print(f'\\n#### {col} ####\\n')\n",
        "  print('Exited = 0\\n')\n",
        "  print(objet[col][data['Exited']==0].value_counts()/data[data['Exited']==0].shape[0]*100)\n",
        "  print(\"\\nExited = 1\\n\")\n",
        "  print(objet[col][data['Exited']==1].value_counts()/data[data['Exited']==1].shape[0]*100)\n",
        "  print(\"\\n#####\\n\")\n",
        "  data[col].value_counts().plot(kind='bar')\n",
        "  plt.xticks(rotation=0)\n",
        "  plt.title(f'Repartition of {col}')\n",
        "  plt.show()"
      ]
    },
    {
      "cell_type": "markdown",
      "metadata": {
        "id": "-iESGqVJCpBi"
      },
      "source": [
        "### Preprocessing | Pipeline | Model\n"
      ]
    },
    {
      "cell_type": "code",
      "execution_count": 2,
      "metadata": {
        "id": "HRLj0i4cCr0Q"
      },
      "outputs": [],
      "source": [
        "from sklearn.preprocessing import OneHotEncoder, MinMaxScaler, PolynomialFeatures, PowerTransformer\n",
        "from sklearn.compose import ColumnTransformer"
      ]
    },
    {
      "cell_type": "code",
      "execution_count": 3,
      "metadata": {
        "id": "gQp401MaDyDX"
      },
      "outputs": [],
      "source": [
        "CONFIG = {}\n",
        "\n",
        "CONFIG['drop'] = ['CustomerId','Surname']\n",
        "CONFIG['OHE'] = ['Geography','Gender']\n",
        "CONFIG['num'] = ['CreditScore','Age','Balance','EstimatedSalary']\n",
        "CONFIG['passthrough'] = ['Tenure','NumOfProducts','HasCrCard','IsActiveMember']"
      ]
    },
    {
      "cell_type": "code",
      "execution_count": 4,
      "metadata": {
        "id": "viZ8wesYIvUo"
      },
      "outputs": [],
      "source": [
        "from sklearn.pipeline import Pipeline\n",
        "from sklearn.tree import DecisionTreeClassifier\n",
        "from sklearn.linear_model import LogisticRegression\n",
        "from sklearn.svm import SVC"
      ]
    },
    {
      "cell_type": "code",
      "execution_count": 5,
      "metadata": {
        "id": "ZlyOCE89D4rO"
      },
      "outputs": [],
      "source": [
        "preprocessor_int = Pipeline(\n",
        "  steps=[\n",
        "    ('Scaller', MinMaxScaler()),\n",
        "    ('Poly', PolynomialFeatures(degree=5))\n",
        "  ]\n",
        ")\n",
        "\n",
        "\n",
        "preprocessor = ColumnTransformer(\n",
        "    transformers=[\n",
        "      ('drop','drop',CONFIG['drop']),\n",
        "      ('OHE',OneHotEncoder(),CONFIG['OHE']),\n",
        "      ('Num',preprocessor_int,CONFIG['num']),\n",
        "      ('passthrough','passthrough',CONFIG['passthrough'])\n",
        "    ]\n",
        ")"
      ]
    },
    {
      "cell_type": "code",
      "execution_count": 6,
      "metadata": {
        "id": "0UcG2mD3JPFo"
      },
      "outputs": [],
      "source": [
        "from sklearn.model_selection import train_test_split, cross_validate, learning_curve"
      ]
    },
    {
      "cell_type": "code",
      "execution_count": 10,
      "metadata": {
        "id": "nFddQkpOJfsz"
      },
      "outputs": [],
      "source": [
        "X = data.drop('Exited', axis = 1)\n",
        "y = data['Exited']"
      ]
    },
    {
      "cell_type": "code",
      "execution_count": 11,
      "metadata": {
        "id": "ufLbrSjTJd0T"
      },
      "outputs": [],
      "source": [
        "X_train,X_test, y_train, y_test = train_test_split(X,y,test_size=0.3, random_state=400)"
      ]
    },
    {
      "cell_type": "code",
      "execution_count": 12,
      "metadata": {
        "id": "VGcwmYIoLUpY"
      },
      "outputs": [
        {
          "name": "stderr",
          "output_type": "stream",
          "text": [
            "/home/ariless/.local/lib/python3.6/site-packages/ipykernel_launcher.py:1: FutureWarning: MLflow support for Python 3.6 is deprecated and will be dropped in an upcoming release. At that point, existing Python 3.6 workflows that use MLflow will continue to work without modification, but Python 3.6 users will no longer get access to the latest MLflow features and bugfixes. We recommend that you upgrade to Python 3.7 or newer.\n",
            "  \"\"\"Entry point for launching an IPython kernel.\n"
          ]
        },
        {
          "ename": "MlflowException",
          "evalue": "Experiment 'Churn' already exists.",
          "output_type": "error",
          "traceback": [
            "\u001b[0;31m---------------------------------------------------------------------------\u001b[0m",
            "\u001b[0;31mMlflowException\u001b[0m                           Traceback (most recent call last)",
            "\u001b[0;32m<ipython-input-12-2754968f2c32>\u001b[0m in \u001b[0;36m<module>\u001b[0;34m\u001b[0m\n\u001b[1;32m      1\u001b[0m \u001b[0;32mimport\u001b[0m \u001b[0mmlflow\u001b[0m\u001b[0;34m\u001b[0m\u001b[0;34m\u001b[0m\u001b[0m\n\u001b[0;32m----> 2\u001b[0;31m \u001b[0mmlflow\u001b[0m\u001b[0;34m.\u001b[0m\u001b[0mcreate_experiment\u001b[0m\u001b[0;34m(\u001b[0m\u001b[0;34m'Churn'\u001b[0m\u001b[0;34m)\u001b[0m\u001b[0;34m\u001b[0m\u001b[0;34m\u001b[0m\u001b[0m\n\u001b[0m",
            "\u001b[0;32m~/.local/lib/python3.6/site-packages/mlflow/tracking/fluent.py\u001b[0m in \u001b[0;36mcreate_experiment\u001b[0;34m(name, artifact_location, tags)\u001b[0m\n\u001b[1;32m    934\u001b[0m         \u001b[0mLifecycle_stage\u001b[0m\u001b[0;34m:\u001b[0m \u001b[0mactive\u001b[0m\u001b[0;34m\u001b[0m\u001b[0;34m\u001b[0m\u001b[0m\n\u001b[1;32m    935\u001b[0m     \"\"\"\n\u001b[0;32m--> 936\u001b[0;31m     \u001b[0;32mreturn\u001b[0m \u001b[0mMlflowClient\u001b[0m\u001b[0;34m(\u001b[0m\u001b[0;34m)\u001b[0m\u001b[0;34m.\u001b[0m\u001b[0mcreate_experiment\u001b[0m\u001b[0;34m(\u001b[0m\u001b[0mname\u001b[0m\u001b[0;34m,\u001b[0m \u001b[0martifact_location\u001b[0m\u001b[0;34m,\u001b[0m \u001b[0mtags\u001b[0m\u001b[0;34m)\u001b[0m\u001b[0;34m\u001b[0m\u001b[0;34m\u001b[0m\u001b[0m\n\u001b[0m\u001b[1;32m    937\u001b[0m \u001b[0;34m\u001b[0m\u001b[0m\n\u001b[1;32m    938\u001b[0m \u001b[0;34m\u001b[0m\u001b[0m\n",
            "\u001b[0;32m~/.local/lib/python3.6/site-packages/mlflow/tracking/client.py\u001b[0m in \u001b[0;36mcreate_experiment\u001b[0;34m(self, name, artifact_location, tags)\u001b[0m\n\u001b[1;32m    505\u001b[0m             \u001b[0mLifecycle_stage\u001b[0m\u001b[0;34m:\u001b[0m \u001b[0mactive\u001b[0m\u001b[0;34m\u001b[0m\u001b[0;34m\u001b[0m\u001b[0m\n\u001b[1;32m    506\u001b[0m         \"\"\"\n\u001b[0;32m--> 507\u001b[0;31m         \u001b[0;32mreturn\u001b[0m \u001b[0mself\u001b[0m\u001b[0;34m.\u001b[0m\u001b[0m_tracking_client\u001b[0m\u001b[0;34m.\u001b[0m\u001b[0mcreate_experiment\u001b[0m\u001b[0;34m(\u001b[0m\u001b[0mname\u001b[0m\u001b[0;34m,\u001b[0m \u001b[0martifact_location\u001b[0m\u001b[0;34m,\u001b[0m \u001b[0mtags\u001b[0m\u001b[0;34m)\u001b[0m\u001b[0;34m\u001b[0m\u001b[0;34m\u001b[0m\u001b[0m\n\u001b[0m\u001b[1;32m    508\u001b[0m \u001b[0;34m\u001b[0m\u001b[0m\n\u001b[1;32m    509\u001b[0m     \u001b[0;32mdef\u001b[0m \u001b[0mdelete_experiment\u001b[0m\u001b[0;34m(\u001b[0m\u001b[0mself\u001b[0m\u001b[0;34m,\u001b[0m \u001b[0mexperiment_id\u001b[0m\u001b[0;34m:\u001b[0m \u001b[0mstr\u001b[0m\u001b[0;34m)\u001b[0m \u001b[0;34m->\u001b[0m \u001b[0;32mNone\u001b[0m\u001b[0;34m:\u001b[0m\u001b[0;34m\u001b[0m\u001b[0;34m\u001b[0m\u001b[0m\n",
            "\u001b[0;32m~/.local/lib/python3.6/site-packages/mlflow/tracking/_tracking_service/client.py\u001b[0m in \u001b[0;36mcreate_experiment\u001b[0;34m(self, name, artifact_location, tags)\u001b[0m\n\u001b[1;32m    183\u001b[0m             \u001b[0mname\u001b[0m\u001b[0;34m=\u001b[0m\u001b[0mname\u001b[0m\u001b[0;34m,\u001b[0m\u001b[0;34m\u001b[0m\u001b[0;34m\u001b[0m\u001b[0m\n\u001b[1;32m    184\u001b[0m             \u001b[0martifact_location\u001b[0m\u001b[0;34m=\u001b[0m\u001b[0martifact_location\u001b[0m\u001b[0;34m,\u001b[0m\u001b[0;34m\u001b[0m\u001b[0;34m\u001b[0m\u001b[0m\n\u001b[0;32m--> 185\u001b[0;31m             \u001b[0mtags\u001b[0m\u001b[0;34m=\u001b[0m\u001b[0;34m[\u001b[0m\u001b[0mExperimentTag\u001b[0m\u001b[0;34m(\u001b[0m\u001b[0mkey\u001b[0m\u001b[0;34m,\u001b[0m \u001b[0mvalue\u001b[0m\u001b[0;34m)\u001b[0m \u001b[0;32mfor\u001b[0m \u001b[0;34m(\u001b[0m\u001b[0mkey\u001b[0m\u001b[0;34m,\u001b[0m \u001b[0mvalue\u001b[0m\u001b[0;34m)\u001b[0m \u001b[0;32min\u001b[0m \u001b[0mtags\u001b[0m\u001b[0;34m.\u001b[0m\u001b[0mitems\u001b[0m\u001b[0;34m(\u001b[0m\u001b[0;34m)\u001b[0m\u001b[0;34m]\u001b[0m \u001b[0;32mif\u001b[0m \u001b[0mtags\u001b[0m \u001b[0;32melse\u001b[0m \u001b[0;34m[\u001b[0m\u001b[0;34m]\u001b[0m\u001b[0;34m,\u001b[0m\u001b[0;34m\u001b[0m\u001b[0;34m\u001b[0m\u001b[0m\n\u001b[0m\u001b[1;32m    186\u001b[0m         )\n\u001b[1;32m    187\u001b[0m \u001b[0;34m\u001b[0m\u001b[0m\n",
            "\u001b[0;32m~/.local/lib/python3.6/site-packages/mlflow/store/tracking/file_store.py\u001b[0m in \u001b[0;36mcreate_experiment\u001b[0;34m(self, name, artifact_location, tags)\u001b[0m\n\u001b[1;32m    319\u001b[0m     \u001b[0;32mdef\u001b[0m \u001b[0mcreate_experiment\u001b[0m\u001b[0;34m(\u001b[0m\u001b[0mself\u001b[0m\u001b[0;34m,\u001b[0m \u001b[0mname\u001b[0m\u001b[0;34m,\u001b[0m \u001b[0martifact_location\u001b[0m\u001b[0;34m=\u001b[0m\u001b[0;32mNone\u001b[0m\u001b[0;34m,\u001b[0m \u001b[0mtags\u001b[0m\u001b[0;34m=\u001b[0m\u001b[0;32mNone\u001b[0m\u001b[0;34m)\u001b[0m\u001b[0;34m:\u001b[0m\u001b[0;34m\u001b[0m\u001b[0;34m\u001b[0m\u001b[0m\n\u001b[1;32m    320\u001b[0m         \u001b[0mself\u001b[0m\u001b[0;34m.\u001b[0m\u001b[0m_check_root_dir\u001b[0m\u001b[0;34m(\u001b[0m\u001b[0;34m)\u001b[0m\u001b[0;34m\u001b[0m\u001b[0;34m\u001b[0m\u001b[0m\n\u001b[0;32m--> 321\u001b[0;31m         \u001b[0mself\u001b[0m\u001b[0;34m.\u001b[0m\u001b[0m_validate_experiment_name\u001b[0m\u001b[0;34m(\u001b[0m\u001b[0mname\u001b[0m\u001b[0;34m)\u001b[0m\u001b[0;34m\u001b[0m\u001b[0;34m\u001b[0m\u001b[0m\n\u001b[0m\u001b[1;32m    322\u001b[0m         \u001b[0;31m# Get all existing experiments and find the one with largest numerical ID.\u001b[0m\u001b[0;34m\u001b[0m\u001b[0;34m\u001b[0m\u001b[0;34m\u001b[0m\u001b[0m\n\u001b[1;32m    323\u001b[0m         \u001b[0;31m# len(list_all(..)) would not work when experiments are deleted.\u001b[0m\u001b[0;34m\u001b[0m\u001b[0;34m\u001b[0m\u001b[0;34m\u001b[0m\u001b[0m\n",
            "\u001b[0;32m~/.local/lib/python3.6/site-packages/mlflow/store/tracking/file_store.py\u001b[0m in \u001b[0;36m_validate_experiment_name\u001b[0;34m(self, name)\u001b[0m\n\u001b[1;32m    314\u001b[0m                 raise MlflowException(\n\u001b[1;32m    315\u001b[0m                     \u001b[0;34m\"Experiment '%s' already exists.\"\u001b[0m \u001b[0;34m%\u001b[0m \u001b[0mexperiment\u001b[0m\u001b[0;34m.\u001b[0m\u001b[0mname\u001b[0m\u001b[0;34m,\u001b[0m\u001b[0;34m\u001b[0m\u001b[0;34m\u001b[0m\u001b[0m\n\u001b[0;32m--> 316\u001b[0;31m                     \u001b[0mdatabricks_pb2\u001b[0m\u001b[0;34m.\u001b[0m\u001b[0mRESOURCE_ALREADY_EXISTS\u001b[0m\u001b[0;34m,\u001b[0m\u001b[0;34m\u001b[0m\u001b[0;34m\u001b[0m\u001b[0m\n\u001b[0m\u001b[1;32m    317\u001b[0m                 )\n\u001b[1;32m    318\u001b[0m \u001b[0;34m\u001b[0m\u001b[0m\n",
            "\u001b[0;31mMlflowException\u001b[0m: Experiment 'Churn' already exists."
          ]
        }
      ],
      "source": [
        "import mlflow\n",
        "mlflow.create_experiment('Churn')"
      ]
    },
    {
      "cell_type": "code",
      "execution_count": 13,
      "metadata": {},
      "outputs": [],
      "source": [
        "Models = {}\n",
        "\n",
        "Models['Log_reg'] = Pipeline(\n",
        "                        steps=[\n",
        "                            ('preprocessing',preprocessor),\n",
        "                            ('model', LogisticRegression(C=10, random_state=400, n_jobs=-1, max_iter=200))\n",
        "                        ]\n",
        "                    )\n",
        "\n",
        "# Models['SVC'] = Pipeline(\n",
        "#                         steps=[\n",
        "#                         ('preprocessing',preprocessor),\n",
        "#                         ('model', SVC(random_state=400, kernel=\"rbf\"))\n",
        "#                     ]\n",
        "#                 )\n",
        "\n",
        "# Models['DecisionTree'] =Pipeline(\n",
        "#                         steps=[\n",
        "#                         ('preprocessing',preprocessor),\n",
        "#                         ('model', DecisionTreeClassifier())\n",
        "#                     ]\n",
        "#                 )\n"
      ]
    },
    {
      "cell_type": "code",
      "execution_count": 15,
      "metadata": {},
      "outputs": [
        {
          "data": {
            "image/png": "[encoded data removed]",
            "text/plain": [
              "<Figure size 432x288 with 1 Axes>"
            ]
          },
          "metadata": {
            "needs_background": "light"
          },
          "output_type": "display_data"
        }
      ],
      "source": [
        "for key,pipeline in Models.items():\n",
        "    with mlflow.start_run(run_name=key):\n",
        "\n",
        "        cv = cross_validate(pipeline , X_train, y_train, \n",
        "                            cv=5,scoring=['precision','recall','f1'],\n",
        "                            return_train_score=True)\n",
        "\n",
        "        cv_result = pd.DataFrame(cv).to_html('assets/cv_result.html')\n",
        "        \n",
        "        N, train,val = learning_curve(pipeline, X_train, y_train, cv=5,random_state=400, scoring='f1', n_jobs=-1)\n",
        "        plt.figure()\n",
        "        plt.plot(N, train.mean(1), label='train')\n",
        "        plt.plot(N, val.mean(1), label ='val')\n",
        "        plt.title(f'{key}_learning_curve')\n",
        "        plt.legend()\n",
        "        plt.savefig(f'{key}_learning_curve.png')\n",
        "\n",
        "        # Fit the model \n",
        "\n",
        "        pipeline = pipeline.fit(X_train,y_train)\n",
        "\n",
        "        pred = pipeline.predict(X_test)\n",
        "        \n",
        "        # Metrics\n",
        "        \n",
        "        mlflow.log_metric('F1 Train', cv['test_f1'].mean())\n",
        "        mlflow.log_metric('F1 Test', cv['train_f1'].mean())\n",
        "\n",
        "        # Params \n",
        "\n",
        "        mlflow.log_params(pipeline.steps[1][1].get_params())\n",
        "\n",
        "        #Artifact\n",
        "\n",
        "        mlflow.log_artifact(f'{key}_learning_curve.png')\n",
        "        mlflow.log_artifact('assets/cv_result.html')\n",
        "\n",
        "        #Log Model\n",
        "\n",
        "        mlflow.sklearn.log_model(pipeline, 'model')"
      ]
    }
  ],
  "metadata": {
    "colab": {
      "collapsed_sections": [],
      "name": "Churn.ipynb",
      "provenance": []
    },
    "kernelspec": {
      "display_name": "Python 3",
      "name": "python3"
    },
    "language_info": {
      "codemirror_mode": {
        "name": "ipython",
        "version": 3
      },
      "file_extension": ".py",
      "mimetype": "text/x-python",
      "name": "python",
      "nbconvert_exporter": "python",
      "pygments_lexer": "ipython3",
      "version": "3.6.9"
    }
  },
  "nbformat": 4,
  "nbformat_minor": 0
}
